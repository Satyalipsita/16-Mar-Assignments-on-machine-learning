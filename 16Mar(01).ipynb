{
 "cells": [
  {
   "cell_type": "code",
   "execution_count": null,
   "id": "97ba78c0-ebf2-41a0-94e8-c482f0496c6b",
   "metadata": {},
   "outputs": [],
   "source": [
    "Q-1:\n",
    "    Overfitting: Overfitting occurs when a model is too complex and fits \n",
    "    the training data too closely, resulting in poor performance on new, \n",
    "    unseen data. This means that the model has learned the noise in the\n",
    "    training data instead of the underlying patterns, making it unable to \n",
    "    generalize to new data. Overfitting can occur when the model is too complex, \n",
    "    the training data is too small, or when the model is trained for too long.\n",
    "The consequences of overfitting are that the model may have high accuracy on the training \n",
    "data but perform poorly on new, unseen data. This makes the model unusable in practice as \n",
    "it cannot make accurate predictions on real-world data.\n",
    "\n",
    "Underfitting: Underfitting occurs when a model is too simple and fails to capture\n",
    "the underlying patterns in the data. This results in poor performance on both the \n",
    "training data and new, unseen data. Underfitting can occur when the model is too \n",
    "simple, the training data is too noisy, or when the model is not trained for long enough.\n",
    "The consequences of underfitting are that the model will have low accuracy on both \n",
    "the training data and new, unseen data. This makes the model unable to learn from \n",
    "the data and make accurate predictions.\n",
    "\n",
    "To avoid overfitting and underfitting, it's important to balance the \n",
    "complexity of the model with the size and quality of the training data. \n",
    "Additionally, regularization techniques such as L1 or L2 regularization\n",
    "can be used to reduce overfitting, while increasing the complexity of the \n",
    "model or using more training data can help reduce underfitting. \n",
    "It's also important to use cross-validation techniques to evaluate \n",
    "the performance of the model on new, unseen data and ensure that it \n",
    "can generalize well to real-world data."
   ]
  }
 ],
 "metadata": {
  "kernelspec": {
   "display_name": "Python 3 (ipykernel)",
   "language": "python",
   "name": "python3"
  },
  "language_info": {
   "codemirror_mode": {
    "name": "ipython",
    "version": 3
   },
   "file_extension": ".py",
   "mimetype": "text/x-python",
   "name": "python",
   "nbconvert_exporter": "python",
   "pygments_lexer": "ipython3",
   "version": "3.10.8"
  }
 },
 "nbformat": 4,
 "nbformat_minor": 5
}
